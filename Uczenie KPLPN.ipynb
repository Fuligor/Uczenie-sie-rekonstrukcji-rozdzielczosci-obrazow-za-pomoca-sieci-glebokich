{
  "cells": [
    {
      "cell_type": "code",
      "execution_count": null,
      "metadata": {
        "colab": {
          "base_uri": "https://localhost:8080/"
        },
        "id": "IZXsekZn1rPW",
        "outputId": "f21feec8-a569-4fc9-ac81-ba2c25e663f3"
      },
      "outputs": [
        {
          "output_type": "stream",
          "name": "stdout",
          "text": [
            "Mounted at /content/drive\n"
          ]
        }
      ],
      "source": [
        "from google.colab import drive\n",
        "drive.mount('/content/drive')"
      ]
    },
    {
      "cell_type": "code",
      "execution_count": null,
      "metadata": {
        "id": "eWFV3LTd1kbW"
      },
      "outputs": [],
      "source": [
        "import numpy as np\n",
        "from scipy import ndimage\n",
        "from torch import nn\n",
        "import torch.optim as optim\n",
        "from torch.utils.data import DataLoader\n",
        "from torchvision.transforms import ToTensor\n",
        "from torchvision.io import read_image, ImageReadMode\n",
        "import matplotlib.pyplot as plt\n",
        "from torch.utils.data import Dataset\n",
        "import os\n",
        "from torch import is_tensor, FloatTensor,tensor\n",
        "import torch"
      ]
    },
    {
      "cell_type": "code",
      "execution_count": null,
      "metadata": {
        "colab": {
          "base_uri": "https://localhost:8080/"
        },
        "id": "xGDm6juVFco6",
        "outputId": "98885147-8c0a-459f-8827-1a315a647dab"
      },
      "outputs": [
        {
          "output_type": "stream",
          "name": "stdout",
          "text": [
            "cpu\n"
          ]
        }
      ],
      "source": [
        "device = \"cuda\" if torch.cuda.is_available() else \"cpu\"\n",
        "print(device)\n",
        "torch.backends.cudnn.benchmark = True"
      ]
    },
    {
      "cell_type": "code",
      "execution_count": null,
      "metadata": {
        "id": "AuWakS7V1kbo"
      },
      "outputs": [],
      "source": [
        "batch_size = 30\n",
        "epochs = 60"
      ]
    },
    {
      "cell_type": "markdown",
      "source": [
        "### Dataset"
      ],
      "metadata": {
        "id": "yWzi79W9Hjzt"
      }
    },
    {
      "cell_type": "code",
      "execution_count": null,
      "metadata": {
        "id": "R2uMlezc1kbp"
      },
      "outputs": [],
      "source": [
        "class SuperResolutionDataset(Dataset):\n",
        "    def __init__(self, high_resolution_dir, low_resolution_dir, transform=None, target_transform=None):\n",
        "        self.high_resolution_dir = high_resolution_dir\n",
        "        self.low_resolution_dir = low_resolution_dir\n",
        "        self.transform = transform\n",
        "        self.target_transform = target_transform\n",
        "        self.files = [name for name in os.listdir(high_resolution_dir) if name.endswith('.png')]\n",
        "\n",
        "    def __len__(self):\n",
        "        return len(self.files)\n",
        "\n",
        "    def __getitem__(self, item):\n",
        "        lr_path = os.path.join(self.low_resolution_dir, self.files[item])\n",
        "        lr_image = read_image(lr_path , ImageReadMode.RGB).float()\n",
        "\n",
        "        lr_image_y = (16+ lr_image[..., 0, :, :]*0.25679 + lr_image[..., 1, :, :]*0.504 + lr_image[..., 2, :, :]*0.09791)/255 \n",
        "        lr_image_y = lr_image_y[None , :, :]\n",
        "        hr_path = os.path.join(self.high_resolution_dir, self.files[item])\n",
        "        hr_image = read_image(hr_path , ImageReadMode.RGB).float()\n",
        "        \n",
        "        hr_image_y = (16+ hr_image[..., 0, :, :]*0.25679 + hr_image[..., 1, :, :]*0.504 + hr_image[..., 2, :, :]*0.09791) /255\n",
        "        hr_image_y = hr_image_y[None , :, :]\n",
        "        if self.transform:\n",
        "            lr_image = self.transform(lr_image)\n",
        "        if self.target_transform:\n",
        "            hr_image = self.transform(hr_image)\n",
        "        return lr_image_y, hr_image_y\n",
        "\n",
        "    \n",
        "SRDataset = SuperResolutionDataset(\"drive/MyDrive/Datasets/HRPatches2\" , \"drive/MyDrive/Datasets/LRPatches2\"  )\n",
        "train_dataloader=DataLoader(SRDataset, batch_size=batch_size, shuffle=True)"
      ]
    },
    {
      "cell_type": "markdown",
      "source": [
        "### Funkcja ucząca"
      ],
      "metadata": {
        "id": "7iz_TROOHn9h"
      }
    },
    {
      "cell_type": "code",
      "execution_count": null,
      "metadata": {
        "id": "hH-4Z7tg1kbq"
      },
      "outputs": [],
      "source": [
        "def pre_train(dataloader, model, loss_fn, optimizer):\n",
        "    size = len(dataloader.dataset)\n",
        "    losses = []\n",
        "    model.train()\n",
        "    for batch, (X, y) in enumerate(dataloader):\n",
        "        X, y = X.to(device), y.to(device)\n",
        "        optimizer.zero_grad()\n",
        "        pred = model(X)\n",
        "        loss = loss_fn(pred, y)\n",
        "        losses.append(loss.item())\n",
        "        loss.backward()\n",
        "        optimizer.step()\n",
        "\n",
        "        if batch % 4 == 0:\n",
        "            loss, current = np.mean(losses), batch * len(X)\n",
        "            print(f\"loss: {loss:>7f}, sqr {loss**0.5:>7f}  [{current:>6d}/{size:>6d}]\")\n",
        "            losses = []"
      ]
    },
    {
      "cell_type": "markdown",
      "source": [
        "### Model"
      ],
      "metadata": {
        "id": "fyAfbI8-IFup"
      }
    },
    {
      "cell_type": "code",
      "execution_count": null,
      "metadata": {
        "id": "TIv0Rlrp1kbt"
      },
      "outputs": [],
      "source": [
        "class NeuralNetwork(nn.Module):\n",
        "    def __init__(self):\n",
        "        super(KPNLPnetwork, self).__init__()\n",
        "        self.kernel = (1.0/100)*torch.tensor([[[[1, 4, 6, 4, 1],[4, 16, 24, 16, 4],[6, 24, 36, 24, 6], [4, 16, 24, 16, 4],[1, 4, 6, 4, 1]]]])\n",
        "        self.downsample = nn.PixelUnshuffle(4)\n",
        "        self.conv1a = nn.Conv2d(16 , 64 , 3 , padding=1)\n",
        "        self.conv1b = nn.Conv2d(64, 64, 3, padding=1)\n",
        "        self.conv1qa = nn.Conv2d(64, 64, 3, padding=1)\n",
        "        self.conv1qb = nn.Conv2d(64, 64, 3, padding=1)\n",
        "        self.conv1ha = nn.Conv2d(16, 64, 3, padding=1)\n",
        "        self.conv1hb = nn.Conv2d(64, 64, 3, padding=1)\n",
        "        self.conv1fa = nn.Conv2d(4, 64, 3, padding=1)\n",
        "        self.conv1fb = nn.Conv2d(64, 64, 3, padding=1)\n",
        "        self.relu = nn.LeakyReLU()\n",
        "        self.stack = nn.Sequential(\n",
        "            nn.Conv2d(64, 64, 3, padding=1),\n",
        "            nn.LeakyReLU(),\n",
        "            nn.Conv2d(64, 64, 3, padding=1),\n",
        "            nn.Conv2d(64, 64, 3, padding=1),\n",
        "            nn.LeakyReLU(),\n",
        "            nn.Conv2d(64, 64, 3, padding=1),\n",
        "            nn.Conv2d(64, 64, 3, padding=1),\n",
        "            nn.LeakyReLU(),\n",
        "            nn.Conv2d(64, 64, 3, padding=1),\n",
        "            nn.Conv2d(64, 64, 3, padding=1),\n",
        "            nn.LeakyReLU(),\n",
        "            nn.Conv2d(64, 64, 3, padding=1),\n",
        "\n",
        "            nn.Conv2d(64, 64, 3, padding=1),\n",
        "            nn.LeakyReLU(),\n",
        "            nn.Conv2d(64, 64, 3, padding=1),\n",
        "            nn.Conv2d(64, 64, 3, padding=1),\n",
        "            nn.LeakyReLU(),\n",
        "            nn.Conv2d(64, 64, 3, padding=1),\n",
        "            nn.Conv2d(64, 64, 3, padding=1),\n",
        "            nn.LeakyReLU(),\n",
        "            nn.Conv2d(64, 64, 3, padding=1),\n",
        "            nn.Conv2d(64, 64, 3, padding=1),\n",
        "            nn.LeakyReLU(),\n",
        "            nn.Conv2d(64, 64, 3, padding=1),\n",
        "\n",
        "            nn.Conv2d(64, 64, 3, padding=1),\n",
        "            nn.LeakyReLU(),\n",
        "            nn.Conv2d(64, 64, 3, padding=1),\n",
        "            nn.Conv2d(64, 64, 3, padding=1),\n",
        "            nn.LeakyReLU(),\n",
        "            nn.Conv2d(64, 64, 3, padding=1),\n",
        "            nn.Conv2d(64, 64, 3, padding=1),\n",
        "            nn.LeakyReLU(),\n",
        "            nn.Conv2d(64, 64, 3, padding=1),\n",
        "            nn.Conv2d(64, 64, 3, padding=1),\n",
        "            nn.LeakyReLU(),\n",
        "            nn.Conv2d(64, 64, 3, padding=1),\n",
        "\n",
        "            nn.Conv2d(64, 64, 3, padding=1),\n",
        "            nn.LeakyReLU(),\n",
        "            nn.Conv2d(64, 64, 3, padding=1),\n",
        "            nn.Conv2d(64, 64, 3, padding=1),\n",
        "            nn.LeakyReLU(),\n",
        "            nn.Conv2d(64, 64, 3, padding=1),\n",
        "            nn.Conv2d(64, 64, 3, padding=1),\n",
        "            nn.LeakyReLU(),\n",
        "            nn.Conv2d(64, 64, 3, padding=1),\n",
        "            nn.Conv2d(64, 64, 3, padding=1),\n",
        "            nn.LeakyReLU(),\n",
        "            nn.Conv2d(64, 64, 3, padding=1)\n",
        "        )\n",
        "        self.upsample2 = nn.PixelShuffle(2)\n",
        "        self.upsample4 = nn.PixelShuffle(4)\n",
        "        self.conv2q = nn.Conv2d(64, 25 , 3 , padding=1)\n",
        "        self.conv2h = nn.Conv2d(64, 25, 3, padding=1)\n",
        "        self.conv2f = nn.Conv2d(64, 25, 3, padding=1)\n",
        "        self.conv3q = nn.Conv2d(25 , 1 , 5, padding='same')\n",
        "        self.conv3h = nn.Conv2d(25, 1, 5, padding='same')\n",
        "        self.conv3f = nn.Conv2d(25, 1, 5, padding='same')\n",
        "\n",
        "        self.pyrConv = nn.Conv2d(1 ,1 ,5 , padding=\"same\" , bias=False)\n",
        "\n",
        "        self.pyrConv.weight = nn.Parameter(self.kernel)\n",
        "\n",
        "        self.normalUp = nn.Upsample(scale_factor  = 2 , mode='bicubic')\n",
        "        self.padLayer = nn.ZeroPad2d(2)\n",
        "\n",
        "    def forward(self, x):\n",
        "        common = self.downsample(x)\n",
        "        common = self.conv1a(common)\n",
        "        common = self.relu(common)\n",
        "        common = self.stack(common)\n",
        "        common = self.conv1b(common)\n",
        "        common = self.relu(common)\n",
        "        quarter = common\n",
        "        quarter = self.conv1qa(quarter)\n",
        "        quarter = self.relu(quarter)\n",
        "        quarter = self.conv1qb(quarter)\n",
        "        quarter = self.relu(quarter)\n",
        "        quarter = self.conv2q(quarter)\n",
        "        quarter = self.relu(quarter)\n",
        "\n",
        "        half = self.upsample2(common)\n",
        "        full = self.upsample4(common)\n",
        "\n",
        "        half = self.conv1ha(half)\n",
        "        half = self.relu(half)\n",
        "        half = self.conv1hb(half)\n",
        "        half = self.relu(half)\n",
        "        half = self.conv2h(half)\n",
        "        half = self.relu(half)\n",
        "\n",
        "\n",
        "        full = self.conv1fa(full)\n",
        "        full = self.relu(full)\n",
        "        full = self.conv1fb(full)\n",
        "        full = self.relu(full)\n",
        "        full = self.conv2f(full)\n",
        "        full = self.relu(full)\n",
        "        h = x.shape[2]\n",
        "        w = x.shape[3]\n",
        "        padded = self.padLayer(x).to(device)\n",
        "        nq = torch.empty(x.shape[0] , 25, h//4, w//4).to(device)\n",
        "        nh = torch.empty(x.shape[0] , 25, h//2, w//2).to(device)\n",
        "        c = torch.empty(x.shape[0] , 25, h, w ).to(device)\n",
        "        for i in range(h):\n",
        "            for j in range(w):\n",
        "                c[...,:,i,j] = torch.flatten(padded[... , 0, i:i+5 , j:j+5] , start_dim=1)\n",
        "        d = full*c\n",
        "        e = torch.sum(d , 1, keepdim  = True)\n",
        "\n",
        "        for i in range(h//2):\n",
        "            pom_i = i*2\n",
        "            for j in range(w//2):\n",
        "                pom_j = j*2\n",
        "                nh[...,:,i,j] = torch.flatten(padded[... , 0, pom_i:pom_i+5 , pom_j:pom_j+5] , start_dim=1)\n",
        "        dh = half*nh\n",
        "        eh = torch.sum(dh , 1, keepdim  = True)\n",
        "\n",
        "\n",
        "        for i in range(h//4):\n",
        "            pom_i = i*4\n",
        "            for j in range(w//4):\n",
        "                pom_j = j*4\n",
        "                nq[...,:,i,j] = torch.flatten(padded[... , 0, pom_i:pom_i+5 , pom_j:pom_j+5] , start_dim=1)\n",
        "        dq = quarter*nq\n",
        "        eq = torch.sum(dq , 1, keepdim  = True)\n",
        "\n",
        "        eq = self.normalUp(eq)\n",
        "        eq = self.pyrConv(eq)  \n",
        "        eh = eh+ eq\n",
        "        eh = self.normalUp(eh)\n",
        "        eh = self.pyrConv(eh)  \n",
        "        e = eh+ e\n",
        "\n",
        "        e = self.normalUp(e)\n",
        "        c.detach()\n",
        "        eh.detach()\n",
        "        eq.detach()\n",
        "        padded.detach()\n",
        "        return e\n"
      ]
    },
    {
      "cell_type": "markdown",
      "source": [
        "### Uczenie sieci"
      ],
      "metadata": {
        "id": "Mp5e2qeOHqe4"
      }
    },
    {
      "cell_type": "code",
      "execution_count": null,
      "metadata": {
        "id": "hST8EFyTzBZW"
      },
      "outputs": [],
      "source": [
        "torch.cuda.empty_cache()\n",
        "modelLeaky = NeuralNetwork().to(device)\n",
        "cost = nn.MSELoss()\n",
        "opt = optim.Adam(modelLeaky.parameters() ,lr= 0.0001 )\n",
        "\n",
        "for t in range(epochs):\n",
        "    print(f\"Epoch {t+1}\\n-------------------------------\")\n",
        "    pre_train(train_dataloader, modelLeaky, cost, opt)\n",
        "    torch.save(modelLeaky.state_dict(), 'drive/MyDrive/KPNLP.model')\n",
        "print(\"Done!\")"
      ]
    },
    {
      "cell_type": "code",
      "execution_count": null,
      "metadata": {
        "id": "W1VkKgrYGp32"
      },
      "outputs": [],
      "source": [
        "torch.cuda.empty_cache()\n",
        "modelLeaky = NeuralNetwork().to(device)\n",
        "modelLeaky.load_state_dict(torch.load('drive/MyDrive/KPNLP.model'))\n",
        "\n",
        "\n",
        "cost = nn.MSELoss()\n",
        "opt = optim.Adam(modelLeaky.parameters() ,lr= 0.0001 )\n",
        "for t in range(epochs):\n",
        "    print(f\"Epoch {t+1}\\n-------------------------------\")\n",
        "    pre_train(train_dataloader, modelLeaky, cost, opt)\n",
        "    torch.save(modelLeaky.state_dict(), 'drive/MyDrive/KPNLP.model')\n",
        "print(\"Done!\")"
      ]
    },
    {
      "cell_type": "markdown",
      "source": [
        "### Sprawdzanie wyników na podanym zdjęciu"
      ],
      "metadata": {
        "id": "wTZDNBiNH8Z3"
      }
    },
    {
      "cell_type": "code",
      "execution_count": null,
      "metadata": {
        "id": "Sg5xu5-f1kbs"
      },
      "outputs": [],
      "source": [
        "def PSNR(pred, target):\n",
        "    mse = np.mean((pred - target) ** 2)\n",
        "    psnr = 255 ** 2 / mse\n",
        "    return 10 * np.log10(psnr)\n",
        "model = NeuralNetwork().to(device)\n",
        "model.load_state_dict(torch.load('drive/MyDrive/KPNLP.model' , map_location=torch.device('cpu')))\n",
        "lr_image = read_image(\"img (12).png\")[None , :].float()\n",
        "lr_image_y = (16+ lr_image[..., 0, :, :]*0.25679 + lr_image[..., 1, :, :]*0.504 + lr_image[..., 2, :, :]*0.09791)/255\n",
        "lr_image_y = lr_image_y[None , :, :]\n",
        "lr_image_cb = (128 - 37.945*lr_image[..., 0, :, :]/256 - 74.494*lr_image[..., 1, :, :]/256 + 112.439*lr_image[..., 2, :, :]/256)\n",
        "lr_image_cr = (128 + 112.439*lr_image[..., 0, :, :]/256 - 94.154*lr_image[..., 1, :, :]/256 - 18.285*lr_image[..., 2, :, :]/256)\n",
        "hr_cb = nn.functional.interpolate(lr_image_cb[None , :,:],scale_factor = 2 , mode='bicubic').detach().numpy()[0,0]\n",
        "hr_cr = nn.functional.interpolate(lr_image_cr[None , :,:],scale_factor = 2 , mode='bicubic').detach().numpy()[0,0]\n",
        "print(str(lr_image_y.shape) , lr_image_y.dtype)\n",
        "lr_image_y = lr_image_y.to(device)\n",
        "pom = model(lr_image_y)\n",
        "pom2 = pom.detach().cpu().numpy()[0,0]\n",
        "pom2 *= 255\n",
        "pom2 = np.clip(pom2 , 0, 255)\n",
        "hr_cr = np.clip(hr_cr, 0, 255)\n",
        "hr_cb = np.clip(hr_cb , 0, 255)\n",
        "#print(pom2.shape, pom2.max() , pom2.min() , hr_cb.shape , hr_cr.shape)\n",
        "r = pom2 + 1.402 *(hr_cr - 128)\n",
        "g = pom2 - 0.344136*(hr_cb - 128) - 0.714136 *(hr_cr-128)\n",
        "b = pom2 + 1.772* (hr_cb - 128)\n",
        "improvedImg = np.dstack((r,g,b)).astype(np.uint8)\n",
        "#print(improvedImg.shape, improvedImg.max() , improvedImg.min())\n",
        "plt.imshow(improvedImg)\n",
        "plt.show()\n",
        "from PIL import Image\n",
        "im = Image.fromarray(improvedImg)\n",
        "im.save(\"img (12)Pred.png\")\n",
        "\n",
        "hr_image = read_image(\"img (12) (1).png\").float().numpy()\n",
        "hr_image = np.moveaxis(hr_image, 0, -1)\n",
        "#print(hr_image.shape , hr_image.max())\n",
        "print(\"psnr: \" , PSNR(improvedImg , hr_image))\n",
        "pred_biciubic = nn.functional.interpolate(lr_image,scale_factor = 2 , mode='bicubic').detach().numpy()[0]\n",
        "pred_biciubic = np.moveaxis(pred_biciubic, 0, -1)\n",
        "print(\"psnr: bicubic\" , PSNR(pred_biciubic , hr_image))"
      ]
    }
  ],
  "metadata": {
    "accelerator": "GPU",
    "colab": {
      "collapsed_sections": [],
      "name": "KPN-LPv2.ipynb",
      "provenance": [],
      "toc_visible": true
    },
    "kernelspec": {
      "display_name": "Python 3",
      "language": "python",
      "name": "python3"
    },
    "language_info": {
      "codemirror_mode": {
        "name": "ipython",
        "version": 3
      },
      "file_extension": ".py",
      "mimetype": "text/x-python",
      "name": "python",
      "nbconvert_exporter": "python",
      "pygments_lexer": "ipython3",
      "version": "3.8.6"
    }
  },
  "nbformat": 4,
  "nbformat_minor": 0
}