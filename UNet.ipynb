{
 "cells": [
  {
   "cell_type": "code",
   "execution_count": null,
   "id": "d4a8b842-07f3-4c23-82a5-3f27de2ad293",
   "metadata": {
    "id": "d4a8b842-07f3-4c23-82a5-3f27de2ad293"
   },
   "outputs": [],
   "source": [
    "import fastai\n",
    "from fastai.vision import *\n",
    "from fastai.callbacks import *\n",
    "from multiprocessing import Pool\n",
    "import PIL\n",
    "from torchvision.models import vgg16_bn"
   ]
  },
  {
   "cell_type": "markdown",
   "id": "71a8c41e-c5ce-4a35-a8b1-0e3920470463",
   "metadata": {},
   "source": [
    "### Dataset"
   ]
  },
  {
   "cell_type": "code",
   "execution_count": null,
   "id": "n-jYEFt_3KUM",
   "metadata": {
    "id": "n-jYEFt_3KUM"
   },
   "outputs": [],
   "source": [
    "path = Path('trainDataset/train')\n",
    "path_hr = path/'HR'\n",
    "path_lr = path/'LR'\n",
    "path_hr2 = path/'HR2'\n",
    "path_lr2 = path/'LR2'\n",
    "savePath = path"
   ]
  },
  {
   "cell_type": "code",
   "execution_count": null,
   "id": "qnIreU403bNJ",
   "metadata": {
    "id": "qnIreU403bNJ"
   },
   "outputs": [],
   "source": [
    "bs,size=6,256\n",
    "src1 = ImageImageList.from_folder(path_lr).random_split_by_pct(0.1, seed=42)\n",
    "src2 = ImageImageList.from_folder(path_lr2).random_split_by_pct(0.1, seed=42)"
   ]
  },
  {
   "cell_type": "code",
   "execution_count": null,
   "id": "uFO6xyxI3eJZ",
   "metadata": {
    "id": "uFO6xyxI3eJZ"
   },
   "outputs": [],
   "source": [
    "def get_data1(bs,size):\n",
    "    data = (src1.label_from_func(lambda x: path_hr/x.name)\n",
    "           .transform(get_transforms(max_zoom=2.), size=size, tfm_y=True)\n",
    "           .databunch(bs=bs).normalize(imagenet_stats, do_y=True))\n",
    "\n",
    "    data.c = 3\n",
    "    return data\n",
    "\n",
    "def get_data2(bs,size):\n",
    "    data = (src2.label_from_func(lambda x: path_hr2/x.name)\n",
    "           .transform(get_transforms(max_zoom=2.), size=size, tfm_y=True)\n",
    "           .databunch(bs=bs).normalize(imagenet_stats, do_y=True))\n",
    "\n",
    "    data.c = 3\n",
    "    return data"
   ]
  },
  {
   "cell_type": "code",
   "execution_count": null,
   "id": "LWOPbhYh3idH",
   "metadata": {
    "id": "LWOPbhYh3idH"
   },
   "outputs": [],
   "source": [
    "data = get_data1(bs,size)"
   ]
  },
  {
   "cell_type": "markdown",
   "id": "9d8f9908-f292-46fe-a224-8b7787cf39fe",
   "metadata": {},
   "source": [
    "### Model i funkcja straty"
   ]
  },
  {
   "cell_type": "code",
   "execution_count": null,
   "id": "278d4bec-4a36-4328-b11e-7e1ee2990f03",
   "metadata": {
    "id": "278d4bec-4a36-4328-b11e-7e1ee2990f03"
   },
   "outputs": [],
   "source": [
    "def gram_matrix(x):\n",
    "    n,c,h,w = x.size()\n",
    "    x = x.view(n, c, -1)\n",
    "    return (x @ x.transpose(1,2))/(c*h*w)"
   ]
  },
  {
   "cell_type": "code",
   "execution_count": null,
   "id": "57474ed4-aac3-4bcc-825a-ecbe08d2a5fb",
   "metadata": {
    "id": "57474ed4-aac3-4bcc-825a-ecbe08d2a5fb"
   },
   "outputs": [],
   "source": [
    "base_loss = F.l1_loss"
   ]
  },
  {
   "cell_type": "code",
   "execution_count": null,
   "id": "2258a05d-0c22-4138-ad15-1d2f4baaa9d1",
   "metadata": {
    "colab": {
     "base_uri": "https://localhost:8080/",
     "height": 66,
     "referenced_widgets": [
      "4ea0e81b073d4d74a0bbbf0bc6834f10",
      "cf3758038f2243838e4169515359dd2c",
      "b7b466f31903479f9df74769621c824f",
      "93edc4a3ec2848d49aaae50baea1d0f5",
      "8abf7c34ab6c428d842b2679f13c41a4",
      "36c76e9ae855403891df51985955d1e1",
      "5cf83dcf7ea64291b71872de6b2f197c",
      "53a154bff4214cb08fb593f925c851f2",
      "6812c716b6044948a51047ed1e0ba969",
      "20abbd26a41b4209801a5dff983d0fa0",
      "0f110d763db14aec962ff1d6f58f5990"
     ]
    },
    "id": "2258a05d-0c22-4138-ad15-1d2f4baaa9d1",
    "outputId": "86d0eddb-5f7c-4f9d-cc0b-99aad6fe24e6"
   },
   "outputs": [],
   "source": [
    "vgg_m = vgg16_bn(True).features.cuda().eval()\n",
    "#vgg_m = vgg16_bn(True).features.eval()\n",
    "requires_grad(vgg_m, False)"
   ]
  },
  {
   "cell_type": "code",
   "execution_count": null,
   "id": "5ee2baa3-acd6-4fbe-8783-06168a402ff9",
   "metadata": {
    "colab": {
     "base_uri": "https://localhost:8080/"
    },
    "id": "5ee2baa3-acd6-4fbe-8783-06168a402ff9",
    "outputId": "93b2b7ca-ca34-4161-e56c-9ae11c8bec5c"
   },
   "outputs": [],
   "source": [
    "blocks = [i-1 for i,o in enumerate(children(vgg_m)) if isinstance(o,nn.MaxPool2d)]\n",
    "blocks, [vgg_m[i] for i in blocks]"
   ]
  },
  {
   "cell_type": "code",
   "execution_count": null,
   "id": "464c4f3e-1ecb-40b7-8d02-cfa1c9c37497",
   "metadata": {
    "id": "464c4f3e-1ecb-40b7-8d02-cfa1c9c37497"
   },
   "outputs": [],
   "source": [
    "class FeatureLoss(nn.Module):\n",
    "    def __init__(self, m_feat, layer_ids, layer_wgts):\n",
    "        super().__init__()\n",
    "        self.m_feat = m_feat\n",
    "        self.loss_features = [self.m_feat[i] for i in layer_ids]\n",
    "        self.hooks = hook_outputs(self.loss_features, detach=False)\n",
    "        self.wgts = layer_wgts\n",
    "        self.metric_names = ['pixel',] + [f'feat_{i}' for i in range(len(layer_ids))\n",
    "              ] + [f'gram_{i}' for i in range(len(layer_ids))]\n",
    "\n",
    "    def make_features(self, x, clone=False):\n",
    "        self.m_feat(x)\n",
    "        return [(o.clone() if clone else o) for o in self.hooks.stored]\n",
    "\n",
    "    def forward(self, input, target):\n",
    "        out_feat = self.make_features(target, clone=True)\n",
    "        in_feat = self.make_features(input)\n",
    "        self.feat_losses = [base_loss(input,target)]\n",
    "        self.feat_losses += [base_loss(f_in, f_out)*w\n",
    "                             for f_in, f_out, w in zip(in_feat, out_feat, self.wgts)]\n",
    "        self.feat_losses += [base_loss(gram_matrix(f_in), gram_matrix(f_out))*w**2 * 5e3\n",
    "                             for f_in, f_out, w in zip(in_feat, out_feat, self.wgts)]\n",
    "        self.metrics = dict(zip(self.metric_names, self.feat_losses))\n",
    "        return sum(self.feat_losses)\n",
    "\n",
    "    def __del__(self): self.hooks.remove()"
   ]
  },
  {
   "cell_type": "code",
   "execution_count": null,
   "id": "a682bf8f-8572-438d-a2d7-4b579b656b8e",
   "metadata": {
    "id": "a682bf8f-8572-438d-a2d7-4b579b656b8e"
   },
   "outputs": [],
   "source": [
    "feat_loss = FeatureLoss(vgg_m, blocks[2:5], [5,15,2])"
   ]
  },
  {
   "cell_type": "code",
   "execution_count": null,
   "id": "689b80f2-e573-47d7-aefe-a07eb11c13d2",
   "metadata": {
    "colab": {
     "base_uri": "https://localhost:8080/",
     "height": 66,
     "referenced_widgets": [
      "a493e39b147c4ebab56db3404878e737",
      "285af693260b4d7ba85d88f3549b30b0",
      "b155824361e841f4be8b24d043b5c66e",
      "3a4851abc49f4e56b401baaee8b580b4",
      "178af5b8a60543aca6c8b851aaa52161",
      "6a35367aa19744169612d0c0e1a36ca0",
      "dde6289780104074a2550cb56d0182d2",
      "9f07834ecb1b459283777882a862ffb0",
      "8fd0bd1720264a739c6a58797354f485",
      "b451663b17b249949918aba83f4a975a",
      "d29aac28ea7e40c39c57e2fceffa409c"
     ]
    },
    "id": "689b80f2-e573-47d7-aefe-a07eb11c13d2",
    "outputId": "e4838b10-ea60-40d7-8891-7f0d88433614"
   },
   "outputs": [],
   "source": [
    "wd = 1e-3\n",
    "arch = models.resnet34\n",
    "# input, label = data\n",
    "\n",
    "learn = unet_learner(data, arch, wd=wd, loss_func=feat_loss, callback_fns=LossMetrics,\n",
    "                     blur=True, norm_type=NormType.Weight)\n",
    "gc.collect()"
   ]
  },
  {
   "cell_type": "code",
   "execution_count": null,
   "id": "b96e4c41-e550-458d-a5c7-846f8ea47074",
   "metadata": {
    "id": "b96e4c41-e550-458d-a5c7-846f8ea47074"
   },
   "outputs": [],
   "source": [
    "lr = 1e-3"
   ]
  },
  {
   "cell_type": "markdown",
   "id": "ef2d6d10-7087-4fb4-8f2b-68d1825cf430",
   "metadata": {},
   "source": [
    "### Funkcja ucząca"
   ]
  },
  {
   "cell_type": "code",
   "execution_count": null,
   "id": "021e7f93-a830-4317-8c85-a807951bdc99",
   "metadata": {
    "id": "021e7f93-a830-4317-8c85-a807951bdc99"
   },
   "outputs": [],
   "source": [
    "def do_fit(save_name, lrs=slice(lr), pct_start=0.9):\n",
    "    learn.fit_one_cycle(10, lrs, pct_start=pct_start)\n",
    "    learn.save(save_name)\n",
    "    learn.show_results(rows=1, imgsize=5)"
   ]
  },
  {
   "cell_type": "markdown",
   "id": "6bea4f4a-d167-4362-b25a-dfa6420ced3e",
   "metadata": {},
   "source": [
    "### Uczenie sieci"
   ]
  },
  {
   "cell_type": "code",
   "execution_count": null,
   "id": "5e75c613-3383-4be2-a215-958de97fb5ec",
   "metadata": {
    "colab": {
     "base_uri": "https://localhost:8080/",
     "height": 672
    },
    "id": "5e75c613-3383-4be2-a215-958de97fb5ec",
    "outputId": "07f30473-da94-453e-c990-219126b26410"
   },
   "outputs": [],
   "source": [
    "do_fit(savePath/'1a', slice(lr*10))"
   ]
  },
  {
   "cell_type": "code",
   "execution_count": null,
   "id": "8dd6b775-d4c2-4052-a468-9794d064ed65",
   "metadata": {
    "colab": {
     "base_uri": "https://localhost:8080/",
     "height": 672
    },
    "id": "8dd6b775-d4c2-4052-a468-9794d064ed65",
    "outputId": "2031d27d-b4f0-4531-eacf-ee7ab2f307a4"
   },
   "outputs": [],
   "source": [
    "learn.unfreeze()\n",
    "do_fit(savePath/'1b', slice(1e-5,lr))"
   ]
  },
  {
   "cell_type": "code",
   "execution_count": null,
   "id": "cNDR-_sFDZni",
   "metadata": {
    "colab": {
     "base_uri": "https://localhost:8080/"
    },
    "id": "cNDR-_sFDZni",
    "outputId": "ae6e1fec-dab7-40c9-b9a4-f2126c4a548c"
   },
   "outputs": [],
   "source": [
    "data = get_data1(bs,size)\n",
    "learn.data = data\n",
    "learn.freeze()\n",
    "gc.collect()"
   ]
  },
  {
   "cell_type": "code",
   "execution_count": null,
   "id": "vAKJPQHUDeuJ",
   "metadata": {
    "colab": {
     "base_uri": "https://localhost:8080/",
     "height": 672
    },
    "id": "vAKJPQHUDeuJ",
    "outputId": "4371d021-21fa-4668-987c-563de2857e3f"
   },
   "outputs": [],
   "source": [
    "learn.load('2b')\n",
    "print('ok')"
   ]
  },
  {
   "cell_type": "code",
   "execution_count": null,
   "id": "1260bdc8-d5ac-4597-b946-501f3a6e5a04",
   "metadata": {},
   "outputs": [],
   "source": [
    "do_fit('2ca')"
   ]
  },
  {
   "cell_type": "code",
   "execution_count": null,
   "id": "d4ede26b-79ea-40c4-83c7-e6eddd0bbf4e",
   "metadata": {},
   "outputs": [],
   "source": [
    "learn.load('2ca')\n",
    "data = get_data2(bs,size)\n",
    "learn.data = data\n",
    "gc.collect()\n",
    "do_fit('2cb')"
   ]
  },
  {
   "cell_type": "code",
   "execution_count": null,
   "id": "5q14ipwCDifp",
   "metadata": {
    "colab": {
     "base_uri": "https://localhost:8080/",
     "height": 813
    },
    "id": "5q14ipwCDifp",
    "outputId": "7f70f0c8-2997-45ed-d4d2-6ce5ccf01c4c"
   },
   "outputs": [],
   "source": [
    "learn.load('2cb')\n",
    "data = get_data1(bs,size)\n",
    "learn.data = data\n",
    "gc.collect()\n",
    "learn.unfreeze()\n",
    "do_fit('2da', slice(1e-6,1e-4), pct_start=0.3)"
   ]
  },
  {
   "cell_type": "code",
   "execution_count": null,
   "id": "dd6d4356-afd5-4a8a-8c34-f4dc794ffdd5",
   "metadata": {},
   "outputs": [],
   "source": [
    "learn.load('2da')\n",
    "data = get_data2(bs,size)\n",
    "learn.data = data\n",
    "gc.collect()\n",
    "\n",
    "do_fit('2db', slice(1e-6,1e-4), pct_start=0.3)"
   ]
  },
  {
   "cell_type": "code",
   "execution_count": null,
   "id": "pjVaz0BCVEW_",
   "metadata": {
    "id": "pjVaz0BCVEW_"
   },
   "outputs": [],
   "source": [
    "learn.load('2db')\n",
    "learn.export('model.pkl')\n",
    "\n",
    "model =learn.model\n",
    "\n",
    "model.eval()\n",
    "checkpoint = {'model': model,\n",
    "          'state_dict': model.state_dict()}\n",
    "\n",
    "torch.save(checkpoint, 'checkpoint2.pth')"
   ]
  },
  {
   "cell_type": "code",
   "execution_count": null,
   "id": "bea39112-4790-468e-9f28-0996c9b274b1",
   "metadata": {},
   "outputs": [],
   "source": []
  }
 ],
 "metadata": {
  "accelerator": "GPU",
  "colab": {
   "collapsed_sections": [],
   "name": "UNet.ipynb",
   "provenance": []
  },
  "kernelspec": {
   "display_name": "Python 3 (ipykernel)",
   "language": "python",
   "name": "python3"
  },
  "language_info": {
   "codemirror_mode": {
    "name": "ipython",
    "version": 3
   },
   "file_extension": ".py",
   "mimetype": "text/x-python",
   "name": "python",
   "nbconvert_exporter": "python",
   "pygments_lexer": "ipython3",
   "version": "3.9.8"
  },
  "widgets": {
   "application/vnd.jupyter.widget-state+json": {
    "0f110d763db14aec962ff1d6f58f5990": {
     "model_module": "@jupyter-widgets/base",
     "model_module_version": "1.2.0",
     "model_name": "LayoutModel",
     "state": {
      "_model_module": "@jupyter-widgets/base",
      "_model_module_version": "1.2.0",
      "_model_name": "LayoutModel",
      "_view_count": null,
      "_view_module": "@jupyter-widgets/base",
      "_view_module_version": "1.2.0",
      "_view_name": "LayoutView",
      "align_content": null,
      "align_items": null,
      "align_self": null,
      "border": null,
      "bottom": null,
      "display": null,
      "flex": null,
      "flex_flow": null,
      "grid_area": null,
      "grid_auto_columns": null,
      "grid_auto_flow": null,
      "grid_auto_rows": null,
      "grid_column": null,
      "grid_gap": null,
      "grid_row": null,
      "grid_template_areas": null,
      "grid_template_columns": null,
      "grid_template_rows": null,
      "height": null,
      "justify_content": null,
      "justify_items": null,
      "left": null,
      "margin": null,
      "max_height": null,
      "max_width": null,
      "min_height": null,
      "min_width": null,
      "object_fit": null,
      "object_position": null,
      "order": null,
      "overflow": null,
      "overflow_x": null,
      "overflow_y": null,
      "padding": null,
      "right": null,
      "top": null,
      "visibility": null,
      "width": null
     }
    },
    "178af5b8a60543aca6c8b851aaa52161": {
     "model_module": "@jupyter-widgets/controls",
     "model_module_version": "1.5.0",
     "model_name": "HTMLModel",
     "state": {
      "_dom_classes": [],
      "_model_module": "@jupyter-widgets/controls",
      "_model_module_version": "1.5.0",
      "_model_name": "HTMLModel",
      "_view_count": null,
      "_view_module": "@jupyter-widgets/controls",
      "_view_module_version": "1.5.0",
      "_view_name": "HTMLView",
      "description": "",
      "description_tooltip": null,
      "layout": "IPY_MODEL_d29aac28ea7e40c39c57e2fceffa409c",
      "placeholder": "​",
      "style": "IPY_MODEL_b451663b17b249949918aba83f4a975a",
      "value": " 83.3M/83.3M [00:03&lt;00:00, 31.9MB/s]"
     }
    },
    "20abbd26a41b4209801a5dff983d0fa0": {
     "model_module": "@jupyter-widgets/controls",
     "model_module_version": "1.5.0",
     "model_name": "DescriptionStyleModel",
     "state": {
      "_model_module": "@jupyter-widgets/controls",
      "_model_module_version": "1.5.0",
      "_model_name": "DescriptionStyleModel",
      "_view_count": null,
      "_view_module": "@jupyter-widgets/base",
      "_view_module_version": "1.2.0",
      "_view_name": "StyleView",
      "description_width": ""
     }
    },
    "285af693260b4d7ba85d88f3549b30b0": {
     "model_module": "@jupyter-widgets/base",
     "model_module_version": "1.2.0",
     "model_name": "LayoutModel",
     "state": {
      "_model_module": "@jupyter-widgets/base",
      "_model_module_version": "1.2.0",
      "_model_name": "LayoutModel",
      "_view_count": null,
      "_view_module": "@jupyter-widgets/base",
      "_view_module_version": "1.2.0",
      "_view_name": "LayoutView",
      "align_content": null,
      "align_items": null,
      "align_self": null,
      "border": null,
      "bottom": null,
      "display": null,
      "flex": null,
      "flex_flow": null,
      "grid_area": null,
      "grid_auto_columns": null,
      "grid_auto_flow": null,
      "grid_auto_rows": null,
      "grid_column": null,
      "grid_gap": null,
      "grid_row": null,
      "grid_template_areas": null,
      "grid_template_columns": null,
      "grid_template_rows": null,
      "height": null,
      "justify_content": null,
      "justify_items": null,
      "left": null,
      "margin": null,
      "max_height": null,
      "max_width": null,
      "min_height": null,
      "min_width": null,
      "object_fit": null,
      "object_position": null,
      "order": null,
      "overflow": null,
      "overflow_x": null,
      "overflow_y": null,
      "padding": null,
      "right": null,
      "top": null,
      "visibility": null,
      "width": null
     }
    },
    "36c76e9ae855403891df51985955d1e1": {
     "model_module": "@jupyter-widgets/controls",
     "model_module_version": "1.5.0",
     "model_name": "DescriptionStyleModel",
     "state": {
      "_model_module": "@jupyter-widgets/controls",
      "_model_module_version": "1.5.0",
      "_model_name": "DescriptionStyleModel",
      "_view_count": null,
      "_view_module": "@jupyter-widgets/base",
      "_view_module_version": "1.2.0",
      "_view_name": "StyleView",
      "description_width": ""
     }
    },
    "3a4851abc49f4e56b401baaee8b580b4": {
     "model_module": "@jupyter-widgets/controls",
     "model_module_version": "1.5.0",
     "model_name": "FloatProgressModel",
     "state": {
      "_dom_classes": [],
      "_model_module": "@jupyter-widgets/controls",
      "_model_module_version": "1.5.0",
      "_model_name": "FloatProgressModel",
      "_view_count": null,
      "_view_module": "@jupyter-widgets/controls",
      "_view_module_version": "1.5.0",
      "_view_name": "ProgressView",
      "bar_style": "success",
      "description": "",
      "description_tooltip": null,
      "layout": "IPY_MODEL_8fd0bd1720264a739c6a58797354f485",
      "max": 87319819,
      "min": 0,
      "orientation": "horizontal",
      "style": "IPY_MODEL_9f07834ecb1b459283777882a862ffb0",
      "value": 87319819
     }
    },
    "4ea0e81b073d4d74a0bbbf0bc6834f10": {
     "model_module": "@jupyter-widgets/controls",
     "model_module_version": "1.5.0",
     "model_name": "HBoxModel",
     "state": {
      "_dom_classes": [],
      "_model_module": "@jupyter-widgets/controls",
      "_model_module_version": "1.5.0",
      "_model_name": "HBoxModel",
      "_view_count": null,
      "_view_module": "@jupyter-widgets/controls",
      "_view_module_version": "1.5.0",
      "_view_name": "HBoxView",
      "box_style": "",
      "children": [
       "IPY_MODEL_b7b466f31903479f9df74769621c824f",
       "IPY_MODEL_93edc4a3ec2848d49aaae50baea1d0f5",
       "IPY_MODEL_8abf7c34ab6c428d842b2679f13c41a4"
      ],
      "layout": "IPY_MODEL_cf3758038f2243838e4169515359dd2c"
     }
    },
    "53a154bff4214cb08fb593f925c851f2": {
     "model_module": "@jupyter-widgets/controls",
     "model_module_version": "1.5.0",
     "model_name": "ProgressStyleModel",
     "state": {
      "_model_module": "@jupyter-widgets/controls",
      "_model_module_version": "1.5.0",
      "_model_name": "ProgressStyleModel",
      "_view_count": null,
      "_view_module": "@jupyter-widgets/base",
      "_view_module_version": "1.2.0",
      "_view_name": "StyleView",
      "bar_color": null,
      "description_width": ""
     }
    },
    "5cf83dcf7ea64291b71872de6b2f197c": {
     "model_module": "@jupyter-widgets/base",
     "model_module_version": "1.2.0",
     "model_name": "LayoutModel",
     "state": {
      "_model_module": "@jupyter-widgets/base",
      "_model_module_version": "1.2.0",
      "_model_name": "LayoutModel",
      "_view_count": null,
      "_view_module": "@jupyter-widgets/base",
      "_view_module_version": "1.2.0",
      "_view_name": "LayoutView",
      "align_content": null,
      "align_items": null,
      "align_self": null,
      "border": null,
      "bottom": null,
      "display": null,
      "flex": null,
      "flex_flow": null,
      "grid_area": null,
      "grid_auto_columns": null,
      "grid_auto_flow": null,
      "grid_auto_rows": null,
      "grid_column": null,
      "grid_gap": null,
      "grid_row": null,
      "grid_template_areas": null,
      "grid_template_columns": null,
      "grid_template_rows": null,
      "height": null,
      "justify_content": null,
      "justify_items": null,
      "left": null,
      "margin": null,
      "max_height": null,
      "max_width": null,
      "min_height": null,
      "min_width": null,
      "object_fit": null,
      "object_position": null,
      "order": null,
      "overflow": null,
      "overflow_x": null,
      "overflow_y": null,
      "padding": null,
      "right": null,
      "top": null,
      "visibility": null,
      "width": null
     }
    },
    "6812c716b6044948a51047ed1e0ba969": {
     "model_module": "@jupyter-widgets/base",
     "model_module_version": "1.2.0",
     "model_name": "LayoutModel",
     "state": {
      "_model_module": "@jupyter-widgets/base",
      "_model_module_version": "1.2.0",
      "_model_name": "LayoutModel",
      "_view_count": null,
      "_view_module": "@jupyter-widgets/base",
      "_view_module_version": "1.2.0",
      "_view_name": "LayoutView",
      "align_content": null,
      "align_items": null,
      "align_self": null,
      "border": null,
      "bottom": null,
      "display": null,
      "flex": null,
      "flex_flow": null,
      "grid_area": null,
      "grid_auto_columns": null,
      "grid_auto_flow": null,
      "grid_auto_rows": null,
      "grid_column": null,
      "grid_gap": null,
      "grid_row": null,
      "grid_template_areas": null,
      "grid_template_columns": null,
      "grid_template_rows": null,
      "height": null,
      "justify_content": null,
      "justify_items": null,
      "left": null,
      "margin": null,
      "max_height": null,
      "max_width": null,
      "min_height": null,
      "min_width": null,
      "object_fit": null,
      "object_position": null,
      "order": null,
      "overflow": null,
      "overflow_x": null,
      "overflow_y": null,
      "padding": null,
      "right": null,
      "top": null,
      "visibility": null,
      "width": null
     }
    },
    "6a35367aa19744169612d0c0e1a36ca0": {
     "model_module": "@jupyter-widgets/controls",
     "model_module_version": "1.5.0",
     "model_name": "DescriptionStyleModel",
     "state": {
      "_model_module": "@jupyter-widgets/controls",
      "_model_module_version": "1.5.0",
      "_model_name": "DescriptionStyleModel",
      "_view_count": null,
      "_view_module": "@jupyter-widgets/base",
      "_view_module_version": "1.2.0",
      "_view_name": "StyleView",
      "description_width": ""
     }
    },
    "8abf7c34ab6c428d842b2679f13c41a4": {
     "model_module": "@jupyter-widgets/controls",
     "model_module_version": "1.5.0",
     "model_name": "HTMLModel",
     "state": {
      "_dom_classes": [],
      "_model_module": "@jupyter-widgets/controls",
      "_model_module_version": "1.5.0",
      "_model_name": "HTMLModel",
      "_view_count": null,
      "_view_module": "@jupyter-widgets/controls",
      "_view_module_version": "1.5.0",
      "_view_name": "HTMLView",
      "description": "",
      "description_tooltip": null,
      "layout": "IPY_MODEL_0f110d763db14aec962ff1d6f58f5990",
      "placeholder": "​",
      "style": "IPY_MODEL_20abbd26a41b4209801a5dff983d0fa0",
      "value": " 528M/528M [00:09&lt;00:00, 69.3MB/s]"
     }
    },
    "8fd0bd1720264a739c6a58797354f485": {
     "model_module": "@jupyter-widgets/base",
     "model_module_version": "1.2.0",
     "model_name": "LayoutModel",
     "state": {
      "_model_module": "@jupyter-widgets/base",
      "_model_module_version": "1.2.0",
      "_model_name": "LayoutModel",
      "_view_count": null,
      "_view_module": "@jupyter-widgets/base",
      "_view_module_version": "1.2.0",
      "_view_name": "LayoutView",
      "align_content": null,
      "align_items": null,
      "align_self": null,
      "border": null,
      "bottom": null,
      "display": null,
      "flex": null,
      "flex_flow": null,
      "grid_area": null,
      "grid_auto_columns": null,
      "grid_auto_flow": null,
      "grid_auto_rows": null,
      "grid_column": null,
      "grid_gap": null,
      "grid_row": null,
      "grid_template_areas": null,
      "grid_template_columns": null,
      "grid_template_rows": null,
      "height": null,
      "justify_content": null,
      "justify_items": null,
      "left": null,
      "margin": null,
      "max_height": null,
      "max_width": null,
      "min_height": null,
      "min_width": null,
      "object_fit": null,
      "object_position": null,
      "order": null,
      "overflow": null,
      "overflow_x": null,
      "overflow_y": null,
      "padding": null,
      "right": null,
      "top": null,
      "visibility": null,
      "width": null
     }
    },
    "93edc4a3ec2848d49aaae50baea1d0f5": {
     "model_module": "@jupyter-widgets/controls",
     "model_module_version": "1.5.0",
     "model_name": "FloatProgressModel",
     "state": {
      "_dom_classes": [],
      "_model_module": "@jupyter-widgets/controls",
      "_model_module_version": "1.5.0",
      "_model_name": "FloatProgressModel",
      "_view_count": null,
      "_view_module": "@jupyter-widgets/controls",
      "_view_module_version": "1.5.0",
      "_view_name": "ProgressView",
      "bar_style": "success",
      "description": "",
      "description_tooltip": null,
      "layout": "IPY_MODEL_6812c716b6044948a51047ed1e0ba969",
      "max": 553507836,
      "min": 0,
      "orientation": "horizontal",
      "style": "IPY_MODEL_53a154bff4214cb08fb593f925c851f2",
      "value": 553507836
     }
    },
    "9f07834ecb1b459283777882a862ffb0": {
     "model_module": "@jupyter-widgets/controls",
     "model_module_version": "1.5.0",
     "model_name": "ProgressStyleModel",
     "state": {
      "_model_module": "@jupyter-widgets/controls",
      "_model_module_version": "1.5.0",
      "_model_name": "ProgressStyleModel",
      "_view_count": null,
      "_view_module": "@jupyter-widgets/base",
      "_view_module_version": "1.2.0",
      "_view_name": "StyleView",
      "bar_color": null,
      "description_width": ""
     }
    },
    "a493e39b147c4ebab56db3404878e737": {
     "model_module": "@jupyter-widgets/controls",
     "model_module_version": "1.5.0",
     "model_name": "HBoxModel",
     "state": {
      "_dom_classes": [],
      "_model_module": "@jupyter-widgets/controls",
      "_model_module_version": "1.5.0",
      "_model_name": "HBoxModel",
      "_view_count": null,
      "_view_module": "@jupyter-widgets/controls",
      "_view_module_version": "1.5.0",
      "_view_name": "HBoxView",
      "box_style": "",
      "children": [
       "IPY_MODEL_b155824361e841f4be8b24d043b5c66e",
       "IPY_MODEL_3a4851abc49f4e56b401baaee8b580b4",
       "IPY_MODEL_178af5b8a60543aca6c8b851aaa52161"
      ],
      "layout": "IPY_MODEL_285af693260b4d7ba85d88f3549b30b0"
     }
    },
    "b155824361e841f4be8b24d043b5c66e": {
     "model_module": "@jupyter-widgets/controls",
     "model_module_version": "1.5.0",
     "model_name": "HTMLModel",
     "state": {
      "_dom_classes": [],
      "_model_module": "@jupyter-widgets/controls",
      "_model_module_version": "1.5.0",
      "_model_name": "HTMLModel",
      "_view_count": null,
      "_view_module": "@jupyter-widgets/controls",
      "_view_module_version": "1.5.0",
      "_view_name": "HTMLView",
      "description": "",
      "description_tooltip": null,
      "layout": "IPY_MODEL_dde6289780104074a2550cb56d0182d2",
      "placeholder": "​",
      "style": "IPY_MODEL_6a35367aa19744169612d0c0e1a36ca0",
      "value": "100%"
     }
    },
    "b451663b17b249949918aba83f4a975a": {
     "model_module": "@jupyter-widgets/controls",
     "model_module_version": "1.5.0",
     "model_name": "DescriptionStyleModel",
     "state": {
      "_model_module": "@jupyter-widgets/controls",
      "_model_module_version": "1.5.0",
      "_model_name": "DescriptionStyleModel",
      "_view_count": null,
      "_view_module": "@jupyter-widgets/base",
      "_view_module_version": "1.2.0",
      "_view_name": "StyleView",
      "description_width": ""
     }
    },
    "b7b466f31903479f9df74769621c824f": {
     "model_module": "@jupyter-widgets/controls",
     "model_module_version": "1.5.0",
     "model_name": "HTMLModel",
     "state": {
      "_dom_classes": [],
      "_model_module": "@jupyter-widgets/controls",
      "_model_module_version": "1.5.0",
      "_model_name": "HTMLModel",
      "_view_count": null,
      "_view_module": "@jupyter-widgets/controls",
      "_view_module_version": "1.5.0",
      "_view_name": "HTMLView",
      "description": "",
      "description_tooltip": null,
      "layout": "IPY_MODEL_5cf83dcf7ea64291b71872de6b2f197c",
      "placeholder": "​",
      "style": "IPY_MODEL_36c76e9ae855403891df51985955d1e1",
      "value": "100%"
     }
    },
    "cf3758038f2243838e4169515359dd2c": {
     "model_module": "@jupyter-widgets/base",
     "model_module_version": "1.2.0",
     "model_name": "LayoutModel",
     "state": {
      "_model_module": "@jupyter-widgets/base",
      "_model_module_version": "1.2.0",
      "_model_name": "LayoutModel",
      "_view_count": null,
      "_view_module": "@jupyter-widgets/base",
      "_view_module_version": "1.2.0",
      "_view_name": "LayoutView",
      "align_content": null,
      "align_items": null,
      "align_self": null,
      "border": null,
      "bottom": null,
      "display": null,
      "flex": null,
      "flex_flow": null,
      "grid_area": null,
      "grid_auto_columns": null,
      "grid_auto_flow": null,
      "grid_auto_rows": null,
      "grid_column": null,
      "grid_gap": null,
      "grid_row": null,
      "grid_template_areas": null,
      "grid_template_columns": null,
      "grid_template_rows": null,
      "height": null,
      "justify_content": null,
      "justify_items": null,
      "left": null,
      "margin": null,
      "max_height": null,
      "max_width": null,
      "min_height": null,
      "min_width": null,
      "object_fit": null,
      "object_position": null,
      "order": null,
      "overflow": null,
      "overflow_x": null,
      "overflow_y": null,
      "padding": null,
      "right": null,
      "top": null,
      "visibility": null,
      "width": null
     }
    },
    "d29aac28ea7e40c39c57e2fceffa409c": {
     "model_module": "@jupyter-widgets/base",
     "model_module_version": "1.2.0",
     "model_name": "LayoutModel",
     "state": {
      "_model_module": "@jupyter-widgets/base",
      "_model_module_version": "1.2.0",
      "_model_name": "LayoutModel",
      "_view_count": null,
      "_view_module": "@jupyter-widgets/base",
      "_view_module_version": "1.2.0",
      "_view_name": "LayoutView",
      "align_content": null,
      "align_items": null,
      "align_self": null,
      "border": null,
      "bottom": null,
      "display": null,
      "flex": null,
      "flex_flow": null,
      "grid_area": null,
      "grid_auto_columns": null,
      "grid_auto_flow": null,
      "grid_auto_rows": null,
      "grid_column": null,
      "grid_gap": null,
      "grid_row": null,
      "grid_template_areas": null,
      "grid_template_columns": null,
      "grid_template_rows": null,
      "height": null,
      "justify_content": null,
      "justify_items": null,
      "left": null,
      "margin": null,
      "max_height": null,
      "max_width": null,
      "min_height": null,
      "min_width": null,
      "object_fit": null,
      "object_position": null,
      "order": null,
      "overflow": null,
      "overflow_x": null,
      "overflow_y": null,
      "padding": null,
      "right": null,
      "top": null,
      "visibility": null,
      "width": null
     }
    },
    "dde6289780104074a2550cb56d0182d2": {
     "model_module": "@jupyter-widgets/base",
     "model_module_version": "1.2.0",
     "model_name": "LayoutModel",
     "state": {
      "_model_module": "@jupyter-widgets/base",
      "_model_module_version": "1.2.0",
      "_model_name": "LayoutModel",
      "_view_count": null,
      "_view_module": "@jupyter-widgets/base",
      "_view_module_version": "1.2.0",
      "_view_name": "LayoutView",
      "align_content": null,
      "align_items": null,
      "align_self": null,
      "border": null,
      "bottom": null,
      "display": null,
      "flex": null,
      "flex_flow": null,
      "grid_area": null,
      "grid_auto_columns": null,
      "grid_auto_flow": null,
      "grid_auto_rows": null,
      "grid_column": null,
      "grid_gap": null,
      "grid_row": null,
      "grid_template_areas": null,
      "grid_template_columns": null,
      "grid_template_rows": null,
      "height": null,
      "justify_content": null,
      "justify_items": null,
      "left": null,
      "margin": null,
      "max_height": null,
      "max_width": null,
      "min_height": null,
      "min_width": null,
      "object_fit": null,
      "object_position": null,
      "order": null,
      "overflow": null,
      "overflow_x": null,
      "overflow_y": null,
      "padding": null,
      "right": null,
      "top": null,
      "visibility": null,
      "width": null
     }
    }
   }
  }
 },
 "nbformat": 4,
 "nbformat_minor": 5
}
