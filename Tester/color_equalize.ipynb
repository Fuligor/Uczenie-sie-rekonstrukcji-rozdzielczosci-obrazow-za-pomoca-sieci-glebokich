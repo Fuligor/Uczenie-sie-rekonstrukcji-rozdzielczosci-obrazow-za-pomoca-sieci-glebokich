{
 "cells": [
  {
   "cell_type": "code",
   "execution_count": null,
   "metadata": {
    "id": "r04vpbBbk5-Z"
   },
   "outputs": [],
   "source": [
    "from tqdm import tqdm\n",
    "\n",
    "import fastai\n",
    "from fastai.vision import *\n",
    "from fastai.callbacks import *\n",
    "from multiprocessing import Pool\n",
    "import matplotlib.pyplot as plt\n",
    "import numpy as np\n",
    "from  PIL import Image\n",
    "import torch\n",
    "import torchvision\n",
    "from torchvision.models import vgg16_bn\n",
    "from skimage.metrics import structural_similarity as ssim\n",
    "import os\n",
    "import sys\n",
    "\n",
    "from scipy import ndimage\n",
    "from torch import nn\n",
    "import torch.optim as optim\n",
    "from torch.utils.data import DataLoader\n",
    "from torchvision.transforms import ToTensor\n",
    "from torchvision.io import read_image, ImageReadMode\n",
    "from torch.utils.data import Dataset\n",
    "from torch import is_tensor, FloatTensor,tensor\n",
    "\n",
    "sys.path.append('MZSR')\n",
    "from image_resize import image_resize\n",
    "\n",
    "from scipy.signal import convolve2d"
   ]
  },
  {
   "cell_type": "code",
   "execution_count": null,
   "metadata": {
    "id": "Y5FNYz-ylLIg"
   },
   "outputs": [],
   "source": [
    "from utils.metrics import *"
   ]
  },
  {
   "cell_type": "code",
   "execution_count": null,
   "metadata": {
    "id": "to4cjCrBsFcv"
   },
   "outputs": [],
   "source": [
    "import time\n",
    "\n",
    "def measure(fun):\n",
    "    def wrapper(self):\n",
    "      start = time.time()\n",
    "      fun(self)\n",
    "      end = time.time()\n",
    "      self.time = end - start\n",
    "\n",
    "    return wrapper\n",
    "\n",
    "class AbstractModel:\n",
    "    def __init__(self):\n",
    "        self.gt_image = None\n",
    "        self.lr_image = None\n",
    "        self.result = None\n",
    "\n",
    "    def get_name(self) -> str:\n",
    "        raise NotImplementedError()\n",
    "\n",
    "    def get_result(self) -> np.array:\n",
    "        raise NotImplementedError()\n",
    "\n",
    "    def get_metrics(self):\n",
    "        return [PSNR(np.array(self.result), np.array(self.gt_image)), SSIM(np.array(self.result), np.array(self.gt_image)), self.time]\n",
    "\n",
    "    def set_input(self, lr_image: Image, gt_image: Image):\n",
    "        self.lr_image = np.array(lr_image).astype(np.float32) / 255\n",
    "        self.gt_image = np.array(gt_image).astype(np.float32) / 255"
   ]
  },
  {
   "cell_type": "code",
   "execution_count": null,
   "metadata": {
    "id": "o1ZPs7v2wXsW"
   },
   "outputs": [],
   "source": [
    "class UNetModel(AbstractModel):\n",
    "    def get_name(self) -> str:\n",
    "        return 'UNet_Model_Nowszy'"
   ]
  },
  {
   "cell_type": "code",
   "execution_count": null,
   "metadata": {
    "id": "17TZP6gf7pNO"
   },
   "outputs": [],
   "source": [
    "class KPNLPModel(AbstractModel):\n",
    "    def get_name(self) -> str:\n",
    "        return 'KPNLP_Model'"
   ]
  },
  {
   "cell_type": "code",
   "execution_count": null,
   "metadata": {
    "id": "mIccJDumSZ0C"
   },
   "outputs": [],
   "source": [
    "class MZSRModel(AbstractModel):\n",
    "    def __init__(self, bicubic=False):\n",
    "        self.gt_image = None\n",
    "        self.lr_image = None\n",
    "        self.result = None\n",
    "        self.bicubic = bicubic\n",
    "\n",
    "    def get_name(self) -> str:\n",
    "        name = 'MZSR_'\n",
    "        name += 'bicubic' if self.bicubic else 'kernelGan'\n",
    "        return name"
   ]
  },
  {
   "cell_type": "code",
   "execution_count": null,
   "metadata": {
    "id": "ExlXTsdb50Rq"
   },
   "outputs": [],
   "source": [
    "class BicubicModel(AbstractModel):\n",
    "    def get_name(self) -> str:\n",
    "        return 'bicubic'"
   ]
  },
  {
   "cell_type": "code",
   "execution_count": null,
   "metadata": {},
   "outputs": [],
   "source": [
    "def calc_means(image, kernel_size=7):\n",
    "    kernel = np.ones((kernel_size, kernel_size)) / kernel_size ** 2\n",
    "    return convolve2d(image, kernel, mode='same')"
   ]
  },
  {
   "cell_type": "code",
   "execution_count": null,
   "metadata": {},
   "outputs": [],
   "source": [
    "def color_equalize(y_sr, y_lr):\n",
    "    temp = image_resize(y_sr, scale=1/2, kernel='cubic')\n",
    "    temp = image_resize(temp, scale=2, kernel='cubic')\n",
    "    \n",
    "    for i in range(3):\n",
    "        mean_sr = calc_means(temp[:, :, i])\n",
    "        mean_lr = calc_means(y_lr[:, :, i])\n",
    "        diff = mean_lr - mean_sr\n",
    "        y_sr[:, :, i] = np.clip(y_sr[:, :, i] + diff, 0, 1)\n",
    "    \n",
    "    return y_sr"
   ]
  },
  {
   "cell_type": "code",
   "execution_count": null,
   "metadata": {
    "id": "Jhpj_h6RPiX6"
   },
   "outputs": [],
   "source": [
    "def get_tests(path):\n",
    "  result = []\n",
    "  \n",
    "  with open(path, 'r') as file:\n",
    "    for line in file:\n",
    "      while line[-1] == '\\n':\n",
    "        line = line[:-1]\n",
    "\n",
    "      result.append(line.split(';'))\n",
    "  \n",
    "  return result"
   ]
  },
  {
   "cell_type": "code",
   "execution_count": null,
   "metadata": {
    "id": "J98BNTfDmtxD"
   },
   "outputs": [],
   "source": [
    "def test_on_dataset(path, dataset_lr, dataset_gt, models):\n",
    "  lista=os.listdir(path/'datasets'/dataset_lr)\n",
    "  metrics = [open(path/f'results/{dataset_lr}_{i.get_name()}_color_equalize.csv', 'w') for i in models]\n",
    "\n",
    "  for i in metrics:\n",
    "      i.write('Name;PSNR;SSIM;time\\n')\n",
    "  \n",
    "  p_result = path/'results'/dataset_lr\n",
    "\n",
    "  print(p_result)\n",
    "\n",
    "  for i in models:\n",
    "      os.makedirs(p_result/f'{i.get_name()}_color_equalize', exist_ok=True)\n",
    "\n",
    "    \n",
    "  pbar = tqdm(lista)\n",
    "  for i in pbar:\n",
    "      p_lr = f'datasets/{dataset_lr}/{i}'\n",
    "      p_gt = f'datasets/{dataset_gt}/{i}'\n",
    "\n",
    "      lr = image_resize(np.array(Image.open(path/p_lr)), scale=2, kernel='cubic').clip(0, 255) / 255\n",
    "      gt = Image.open(path/p_gt)\n",
    "\n",
    "      for j in range(len(models)):\n",
    "        pbar.set_postfix({'Model': models[j].get_name()})\n",
    "        models[j].set_input(lr, gt)\n",
    "        \n",
    "        temp = p_result/models[j].get_name()/i\n",
    "        pred = Image.open(temp)\n",
    "        pred = np.array(pred)[:models[j].lr_image.shape[0], :models[j].lr_image.shape[1], 0:3].astype(np.float32) / 255\n",
    "        \n",
    "        start = time.time()\n",
    "        \n",
    "        color_equalize(pred, lr)\n",
    "            \n",
    "        end = time.time()\n",
    "        models[j].time = end - start\n",
    "        models[j].result = pred\n",
    "            \n",
    "        temp = p_result/f'{models[j].get_name()}_color_equalize'/i\n",
    "        pred = Image.fromarray(np.uint8(pred * 255))\n",
    "        pred.save(temp)\n",
    "        img_metrics = models[j].get_metrics()\n",
    "\n",
    "        temp = str(i)\n",
    "\n",
    "        for metric in img_metrics:\n",
    "            temp += f';{metric}'\n",
    "\n",
    "        metrics[j].write(f'{temp}\\n')\n",
    "        metrics[j].flush()\n",
    "        os.fsync(metrics[j].fileno())\n",
    "      torch.cuda.empty_cache()\n",
    "\n",
    "  for i in metrics:    \n",
    "      i.close()"
   ]
  },
  {
   "cell_type": "code",
   "execution_count": null,
   "metadata": {
    "colab": {
     "base_uri": "https://localhost:8080/"
    },
    "id": "T0YgGbmYoN0H",
    "outputId": "11c4c0bf-c54f-46f0-f0bf-1b772159dee1"
   },
   "outputs": [],
   "source": [
    "# models = [UNetModel(), KPNLPModel(), MZSRModel(bicubic=True),  MZSRModel()]\n",
    "models = [KPNLPModel()]\n",
    "# models = [UNetModel()]\n",
    "test_path = Path('test')\n",
    "\n",
    "tests = get_tests(test_path/'config.csv')\n",
    "\n",
    "for index, (hr, lr) in enumerate(tests):\n",
    "  print(f'{index+1}/{len(tests)}: {lr} -> {hr}')\n",
    "\n",
    "  test_on_dataset(test_path, lr, hr, models)"
   ]
  }
 ],
 "metadata": {
  "accelerator": "GPU",
  "colab": {
   "collapsed_sections": [],
   "name": "Testy.ipynb",
   "provenance": []
  },
  "kernelspec": {
   "display_name": "Python 3 (ipykernel)",
   "language": "python",
   "name": "python3"
  },
  "language_info": {
   "codemirror_mode": {
    "name": "ipython",
    "version": 3
   },
   "file_extension": ".py",
   "mimetype": "text/x-python",
   "name": "python",
   "nbconvert_exporter": "python",
   "pygments_lexer": "ipython3",
   "version": "3.9.8"
  }
 },
 "nbformat": 4,
 "nbformat_minor": 4
}
